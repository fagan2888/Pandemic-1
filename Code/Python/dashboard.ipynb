{
 "cells": [
  {
   "cell_type": "code",
   "execution_count": 1,
   "metadata": {},
   "outputs": [],
   "source": [
    "import numpy as np\n",
    "from ipywidgets import FloatSlider, HBox, VBox, Dropdown, Box, GridspecLayout, Layout\n",
    "import bqplot.pyplot as plt\n",
    "from bqplot import Axis, LinearScale\n",
    "import pandas as pd\n",
    "from datetime import datetime\n",
    "import pickle\n",
    "import yaml"
   ]
  },
  {
   "cell_type": "code",
   "execution_count": 2,
   "metadata": {},
   "outputs": [],
   "source": [
    "with open('param_desc.yaml', \"rb\") as stream:\n",
    "    param_desc = yaml.safe_load(stream)"
   ]
  },
  {
   "cell_type": "code",
   "execution_count": 3,
   "metadata": {},
   "outputs": [],
   "source": [
    "with open('../../Data/Dashboard/data_dump.pickle', 'rb') as f:\n",
    "    data = pickle.load(f)"
   ]
  },
  {
   "cell_type": "code",
   "execution_count": 4,
   "metadata": {},
   "outputs": [],
   "source": [
    "parameters = set()\n",
    "for p in data.keys():\n",
    "    for k in param_desc.keys():\n",
    "        if p.find(k) == 0:\n",
    "            parameters.add(k)"
   ]
  },
  {
   "cell_type": "code",
   "execution_count": 5,
   "metadata": {},
   "outputs": [],
   "source": [
    "default = 'uPfac_L_0.9'"
   ]
  },
  {
   "cell_type": "code",
   "execution_count": 6,
   "metadata": {},
   "outputs": [],
   "source": [
    "test_labels = np.array(['04/2020', '07/2020', '10/2020', '01/2021', '04/2021', '07/2021', '10/2021', '01/2022', '04/2022', '07/2022', '10/2022', '01/2023', '04/2023'])\n",
    "test_labels = pd.to_datetime([datetime.strptime(i, '%m/%Y') for i in test_labels])"
   ]
  },
  {
   "cell_type": "code",
   "execution_count": 7,
   "metadata": {},
   "outputs": [],
   "source": [
    "# fig1\n",
    "pdf_fig1 = plt.figure(title='Unemployment rate', legend_style = {'stroke-width': 0})\n",
    "pdf_line1 = plt.plot(x=test_labels, y=data[default]['fig1'], labels=['Baseline', 'Pandemic'], display_legend=True)\n",
    "plt.ylim(0.,22.)\n",
    "plt.xlim(test_labels[0], test_labels[-1])\n",
    "plt.xlabel('Quarter')\n",
    "plt.ylabel('Unemployment rate (%)')\n",
    "# pdf_fig1.layout.width='70%'\n",
    "\n",
    "\n",
    "# fig2\n",
    "pdf_fig2 = plt.figure(title=\"Aggregate consumption\", legend_location='bottom', legend_style = {'stroke-width': 0})\n",
    "pdf_line2 = plt.plot(x=test_labels, y=data[default]['fig2'],\n",
    "                     display_legend=True, labels=[\"Baseline\",\"Pandemic, no policy\",\"Pandemic, CARES Act\"])\n",
    "plt.ylim(2200.,3000.)\n",
    "plt.xlim(test_labels[0], test_labels[-1])\n",
    "plt.xlabel('Quarter')\n",
    "plt.ylabel('Aggregate quarterly consumption (billion $)')\n",
    "\n",
    "# fig3\n",
    "pdf_fig3 = plt.figure(title=\"Aggregate income\", legend_location='bottom', legend_style = {'stroke-width': 0})\n",
    "pdf_line3 = plt.plot(x=test_labels, y=data[default]['fig3'],\n",
    "                     display_legend=True, labels=[\"Baseline\",\"Pandemic, no policy\",\"Pandemic, CARES Act\"])\n",
    "plt.ylim(2200.,3000.)\n",
    "plt.xlim(test_labels[0], test_labels[-1])\n",
    "plt.xlabel('Quarter')\n",
    "plt.ylabel('Aggregate labor and transfer income (billion $)')\n",
    "\n",
    "temp = [\"Employed after pandemic\",\"Unemployed after pandemic\",\"Deeply unemp after pandemic\"]\n",
    "# fig4\n",
    "pdf_fig4 = plt.figure(title=\"Average consumption among working age population\", legend_location='bottom', legend_style = {'stroke-width': 0})\n",
    "pdf_line4 = plt.plot(x=test_labels, y=data[default]['fig4'][:3], display_legend=True, labels=temp)\n",
    "pdf_line41 = plt.plot(x=test_labels, y=data[default]['fig4'][3:6], line_style = 'dotted')\n",
    "pdf_line42 = plt.plot(x=test_labels, y=data[default]['fig4'][6:],  line_style = 'dashed')\n",
    "plt.ylim(6000,15000)\n",
    "plt.xlim(test_labels[0], test_labels[-1])\n",
    "plt.xlabel('Quarter')\n",
    "plt.ylabel('Average quarterly consumption ($)')\n",
    "\n",
    "# fig5\n",
    "pdf_fig5 = plt.figure(title=\"Average income among working age population\", legend_location='bottom', legend_style = {'stroke-width': 0})\n",
    "pdf_line5 = plt.plot(x=test_labels, y=data[default]['fig5'][:3], display_legend=True, labels=temp)\n",
    "pdf_line51 = plt.plot(x=test_labels, y=data[default]['fig5'][3:6], line_style = 'dotted')\n",
    "pdf_line52 = plt.plot(x=test_labels, y=data[default]['fig5'][6:],  line_style = 'dashed')\n",
    "plt.ylim(2000,15000)\n",
    "plt.xlim(test_labels[0], test_labels[-1])\n",
    "plt.xlabel('Quarter')\n",
    "plt.ylabel('Average quarterly consumption ($)')"
   ]
  },
  {
   "cell_type": "code",
   "execution_count": 8,
   "metadata": {},
   "outputs": [],
   "source": [
    "# fig_layout = Layout(width='300px', height='250px')\n",
    "#fig6\n",
    "ax_x = Axis(scale=LinearScale(), grid_lines='none')\n",
    "ax_y = Axis(scale=LinearScale(), orientation='vertical', grid_lines='solid')\n",
    "pdf_fig61 = plt.figure( title=\"All education (mean)\",  axes=[ax_x, ax_y],\n",
    "                       legend_location='top', legend_style = {'stroke-width': 0})\n",
    "pdf_line61 = plt.plot(x=data[default]['fig6']['fig1'][0], y=data[default]['fig6']['fig1'][1:], display_legend=True, labels=['Unemployed', 'Deep unemp'])\n",
    "plt.ylim(0,0.20)\n",
    "plt.ylabel('Probability')\n",
    "\n",
    "# fig_layout = Layout(width='300px', height='250px')\n",
    "pdf_fig62 = plt.figure(title=\"High school\",  axes=[ax_x, ax_y],\n",
    "                       legend_location='top', legend_style = {'stroke-width': 0})\n",
    "pdf_line621 = plt.plot(x=data[default]['fig6']['highschool'][2][0],\n",
    "                      y=data[default]['fig6']['highschool'][2][1:])\n",
    "pdf_line622 = plt.plot(x=data[default]['fig6']['highschool'][0][0],\n",
    "                      y=data[default]['fig6']['highschool'][0][1:], line_style = 'dashed')\n",
    "pdf_line623 = plt.plot(x=data[default]['fig6']['highschool'][4][0],\n",
    "                      y=data[default]['fig6']['highschool'][4][1:], line_style = 'dashed')\n",
    "plt.ylim(0,0.20)\n",
    "plt.ylabel('Probability')\n",
    "plt.xlabel('Age')\n",
    "\n",
    "\n",
    "# fig_layout = Layout(width='300px', height='250px')\n",
    "pdf_fig63 = plt.figure(title=\"Dropout\",  axes=[ax_x, ax_y],\n",
    "                       legend_location='top', legend_style = {'stroke-width': 0})\n",
    "pdf_line631 = plt.plot(x=data[default]['fig6']['dropout'][2][0],\n",
    "                      y=data[default]['fig6']['dropout'][2][1:])\n",
    "pdf_line632 = plt.plot(x=data[default]['fig6']['dropout'][0][0],\n",
    "                      y=data[default]['fig6']['dropout'][0][1:], line_style = 'dashed')\n",
    "pdf_line633 = plt.plot(x=data[default]['fig6']['dropout'][4][0],\n",
    "                      y=data[default]['fig6']['dropout'][4][1:], line_style = 'dashed')\n",
    "plt.ylim(0,0.20)\n",
    "\n",
    "\n",
    "# fig_layout = Layout(width='300px', height='250px')\n",
    "pdf_fig64 = plt.figure(title=\"College\",  axes=[ax_x, ax_y],\n",
    "                       legend_location='top', legend_style = {'stroke-width': 0})\n",
    "pdf_line641 = plt.plot(x=data[default]['fig6']['college'][2][0],\n",
    "                      y=data[default]['fig6']['college'][2][1:])\n",
    "pdf_line642 = plt.plot(x=data[default]['fig6']['college'][0][0],\n",
    "                      y=data[default]['fig6']['college'][0][1:], line_style = 'dashed')\n",
    "pdf_line643 = plt.plot(x=data[default]['fig6']['college'][4][0],\n",
    "                      y=data[default]['fig6']['college'][4][1:], line_style = 'dashed')\n",
    "plt.ylim(0,0.20)\n",
    "plt.xlabel('Age')"
   ]
  },
  {
   "cell_type": "code",
   "execution_count": 9,
   "metadata": {},
   "outputs": [],
   "source": [
    "# param_desc['uPfac_L']"
   ]
  },
  {
   "cell_type": "code",
   "execution_count": 10,
   "metadata": {},
   "outputs": [],
   "source": [
    "# parameters = ['uPfac_L', 'Lspell_real', 'DeepA1']\n",
    "options = [(param_desc[parameter], parameter) for parameter in parameters]\n",
    "\n",
    "a = Dropdown(options=options)\n",
    "#default\n",
    "a.value = 'uPfac_L'\n",
    "slider = FloatSlider(min=0.8, max=1.0, step=0.1, value=0.9)\n",
    "def update_slider(change):\n",
    "    print(a.value)\n",
    "    if a.value == 'uPfac_L':\n",
    "        slider.min = -10\n",
    "        slider.max = +10  \n",
    "        slider.min = 0.8\n",
    "        slider.max = 1.0\n",
    "        slider.step = 0.1\n",
    "        slider.value = 0.8\n",
    "    elif a.value == 'Lspell_real':\n",
    "        slider.min = -10\n",
    "        slider.max = +10\n",
    "        slider.min = 1.0\n",
    "        slider.max = 6.0\n",
    "        slider.step = 1.0\n",
    "        slider.value = 3.0\n",
    "    elif a.value == 'DeepA1':\n",
    "        slider.min = -10\n",
    "        slider.max = +10\n",
    "        slider.min = -0.03\n",
    "        slider.max = 0.02\n",
    "        slider.step = 0.01\n",
    "        slider.value = 0.00\n",
    "\n",
    "a.observe(update_slider, names='value')"
   ]
  },
  {
   "cell_type": "code",
   "execution_count": 11,
   "metadata": {},
   "outputs": [],
   "source": [
    "def update_density(change):\n",
    "    key=default\n",
    "    if slider.value == -0.03 and a.value == 'DeepA1':\n",
    "        key = 'DeepA1_n0.03'\n",
    "    elif slider.value == -0.02 and a.value == 'DeepA1':\n",
    "        key = 'DeepA1_n0.02'\n",
    "    elif slider.value == -0.01 and a.value == 'DeepA1':\n",
    "        key = 'DeepA1_n0.01'\n",
    "    elif slider.value == 0.00 and a.value == 'DeepA1':\n",
    "        key = 'DeepA1_0.00'\n",
    "    elif slider.value == 0.01 and a.value == 'DeepA1':\n",
    "        key = 'DeepA1_0.01'\n",
    "    elif slider.value == 1.0 and a.value == 'Lspell_real':\n",
    "        key = 'Lspell_real_1.0'\n",
    "    elif slider.value == 2.0 and a.value == 'Lspell_real':\n",
    "        key = 'Lspell_real_2.0'\n",
    "    elif slider.value == 3.0 and a.value == 'Lspell_real':\n",
    "        key = 'Lspell_real_3.0'\n",
    "    elif slider.value == 4.0 and a.value == 'Lspell_real':\n",
    "        key = 'Lspell_real_4.0'\n",
    "    elif slider.value == 5.0 and a.value == 'Lspell_real':\n",
    "        key = 'Lspell_real_5.0'\n",
    "    elif slider.value == 6.0 and a.value == 'Lspell_real':\n",
    "        key = 'Lspell_real_6.0'\n",
    "    elif slider.value == 1.0 and a.value == 'uPfac_L':\n",
    "        key = 'uPfac_L_1.0'\n",
    "    elif slider.value == 0.9 and a.value == 'uPfac_L':\n",
    "        key = 'uPfac_L_0.9'\n",
    "    elif slider.value == 0.8 and a.value == 'uPfac_L':\n",
    "        key = 'uPfac_L_0.8'\n",
    "    print(key)\n",
    "    pdf_line1.y = data[key]['fig1']\n",
    "    pdf_line2.y = data[key]['fig2']\n",
    "    pdf_line3.y = data[key]['fig3']\n",
    "    pdf_line4.y = data[key]['fig4'][:3]\n",
    "    pdf_line41.y = data[key]['fig4'][3:6]\n",
    "    pdf_line42.y = data[key]['fig4'][6:]\n",
    "    pdf_line5.y = data[key]['fig5'][:3]\n",
    "    pdf_line51.y = data[key]['fig5'][3:6]\n",
    "    pdf_line52.y = data[key]['fig5'][6:]\n",
    "    pdf_line61.y = data[key]['fig6']['fig1'][1:]\n",
    "    pdf_line621.y = data[key]['fig6']['highschool'][2][1:]\n",
    "    pdf_line622.y = data[key]['fig6']['highschool'][0][1:]\n",
    "    pdf_line623.y = data[key]['fig6']['highschool'][4][1:]\n",
    "    pdf_line631.y = data[key]['fig6']['dropout'][2][1:]\n",
    "    pdf_line632.y = data[key]['fig6']['dropout'][0][1:]\n",
    "    pdf_line633.y = data[key]['fig6']['dropout'][4][1:]\n",
    "    pdf_line641.y = data[key]['fig6']['college'][2][1:]\n",
    "    pdf_line642.y = data[key]['fig6']['college'][0][1:]\n",
    "    pdf_line643.y = data[key]['fig6']['college'][4][1:]\n",
    "\n",
    "# register the above callback with the 'value' trait of the sliders\n",
    "slider.observe(update_density, 'value')"
   ]
  },
  {
   "cell_type": "markdown",
   "metadata": {},
   "source": [
    "### An interactive dashboard to look at the effect of various parameters on consumption response modeling.\n",
    "\n",
    "#### For more details check out the paper \"Modeling the Consumption Response to the CARES Act\" by Carroll, Crawley, Slacalek, and White.\n",
    "#### Select a parameter to vary from the dropdown menu below, then adjust the slider to vary that parameter's value.\n",
    "#### All other parameters will remain at the values specified for the primary scenario presented in the paper."
   ]
  },
  {
   "cell_type": "code",
   "execution_count": 12,
   "metadata": {},
   "outputs": [
    {
     "data": {
      "application/vnd.jupyter.widget-view+json": {
       "model_id": "f539cb98de9945398cb2409792af31e7",
       "version_major": 2,
       "version_minor": 0
      },
      "text/plain": [
       "VBox(children=(VBox(children=(Dropdown(index=1, options=(('Coefficient on age in deep unemp shock logit', 'Dee…"
      ]
     },
     "metadata": {},
     "output_type": "display_data"
    }
   ],
   "source": [
    "slider_layout = VBox([a, slider])\n",
    "grid = GridspecLayout(2, 3)\n",
    "\n",
    "nest_grid = GridspecLayout(2, 2)\n",
    "nest_grid[0, 0] = pdf_fig61\n",
    "nest_grid[0, 1] = pdf_fig63\n",
    "nest_grid[1, 0] = pdf_fig62\n",
    "nest_grid[1, 1] = pdf_fig64\n",
    "nest_grid[0, 0].layout.height = 'auto'\n",
    "nest_grid[0, 1].layout.height = 'auto'\n",
    "nest_grid[1, 0].layout.height = 'auto'\n",
    "nest_grid[1, 1].layout.height = 'auto'\n",
    "\n",
    "# lay = VBox([HBox([pdf_fig61, pdf_fig63]), HBox([pdf_fig62, pdf_fig64])])\n",
    "# fill it in with widgets\n",
    "grid[0, 0] = pdf_fig1\n",
    "grid[0, 1] = nest_grid\n",
    "grid[0, 2] = pdf_fig2\n",
    "grid[1, 0] = pdf_fig3\n",
    "grid[1, 1] = pdf_fig4\n",
    "grid[1, 2] = pdf_fig5\n",
    "grid[0, 0].layout.width = '80%'\n",
    "grid[0, 1].layout.width = '100%'\n",
    "grid[0, 2].layout.width = '80%'\n",
    "\n",
    "\n",
    "final_layout = VBox([slider_layout, grid])\n",
    "final_layout"
   ]
  },
  {
   "cell_type": "code",
   "execution_count": null,
   "metadata": {},
   "outputs": [],
   "source": []
  }
 ],
 "metadata": {
  "jupytext": {
   "notebook_metadata_filter": "all"
  },
  "kernelspec": {
   "display_name": "Python 3",
   "language": "python",
   "name": "python3"
  },
  "language_info": {
   "codemirror_mode": {
    "name": "ipython",
    "version": 3
   },
   "file_extension": ".py",
   "mimetype": "text/x-python",
   "name": "python",
   "nbconvert_exporter": "python",
   "pygments_lexer": "ipython3",
   "version": "3.7.6"
  }
 },
 "nbformat": 4,
 "nbformat_minor": 4
}
